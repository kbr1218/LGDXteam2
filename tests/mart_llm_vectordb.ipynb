{
 "cells": [
  {
   "cell_type": "markdown",
   "metadata": {},
   "source": [
    "# LLM VectorDB 저장\n",
    "#### w/ FAISS >> Chroma"
   ]
  },
  {
   "cell_type": "code",
   "execution_count": 1,
   "metadata": {},
   "outputs": [],
   "source": [
    "from langchain_community.embeddings import HuggingFaceEmbeddings\n",
    "from langchain_community.document_loaders.csv_loader import CSVLoader\n",
    "\n",
    "from langchain.schema import Document\n",
    "from langchain.text_splitter import RecursiveCharacterTextSplitter\n",
    "\n",
    "import pandas as pd\n",
    "import json\n",
    "\n",
    "# VectorDB - FAISS\n",
    "from langchain_community.vectorstores import Chroma"
   ]
  },
  {
   "cell_type": "code",
   "execution_count": 2,
   "metadata": {},
   "outputs": [
    {
     "name": "stdout",
     "output_type": "stream",
     "text": [
      "문서의 수: 14224\n"
     ]
    }
   ],
   "source": [
    "### 01. CSV 파일에서 문서 로드 ###\n",
    "loader = CSVLoader('../data/movies_mart_14224.csv', encoding='utf8')\n",
    "docs = loader.load()\n",
    "print(f\"문서의 수: {len(docs)}\")\n",
    "\n",
    "### 02. pandas로 데이터프레임 칼럼명 가져오기\n",
    "csv_path = '../data/movies_mart_14224.csv'\n",
    "df2 = pd.read_csv(csv_path, encoding='utf8')\n",
    "colnames = df2.columns"
   ]
  },
  {
   "cell_type": "code",
   "execution_count": 3,
   "metadata": {},
   "outputs": [
    {
     "data": {
      "text/plain": [
       "Index(['asset_id', 'title', 'original_title', 'genre', 'adult', 'runtime',\n",
       "       'release_year', 'release_month', 'release_day', 'actors', 'director',\n",
       "       'orgnl_cntry', 'original_language', 'vote_average', 'vote_count',\n",
       "       'popularity', 'poster_path', 'backdrop_path', 'overview', '분류'],\n",
       "      dtype='object')"
      ]
     },
     "execution_count": 3,
     "metadata": {},
     "output_type": "execute_result"
    }
   ],
   "source": [
    "colnames"
   ]
  },
  {
   "cell_type": "code",
   "execution_count": 4,
   "metadata": {},
   "outputs": [],
   "source": [
    "# 'runtime', 'release_year', 'release_month', 'release_day', 'vote_count'정수값으로 변경\n",
    "# 실수(float) → 정수(Int64) 변환 (NaN 허용)\n",
    "# df2['runtime'] = df2['runtime'].astype(pd.Int64Dtype())\n",
    "# df2['release_year'] = df2['release_year'].astype(pd.Int64Dtype())\n",
    "# df2['release_month'] = df2['release_month'].astype(pd.Int64Dtype())\n",
    "# df2['release_day'] = df2['release_day'].astype(pd.Int64Dtype())\n",
    "# df2['vote_count'] = df2['vote_count'].astype(pd.Int64Dtype())"
   ]
  },
  {
   "cell_type": "code",
   "execution_count": 5,
   "metadata": {},
   "outputs": [
    {
     "name": "stdout",
     "output_type": "stream",
     "text": [
      "문서의 수: 14224\n",
      "[메타데이터 예시]\n",
      " {'asset_id': 'cjc|M0376427LSG233188001', 'title': '캣우먼', 'original_title': 'Catwoman', 'genre': '범죄,액션,판타지', 'adult': False, 'runtime': 104.0, 'release_year': 2004.0, 'release_month': 7.0, 'release_day': 22.0, 'actors': '할 베리,벤자민 브렛,랑베르 윌슨,프란시스 콘로이', 'director': '피토프', 'orgnl_cntry': '미국', 'original_language': 'en', 'vote_average': 4.613, 'vote_count': 3327.0, 'popularity': 29.052}\n"
     ]
    }
   ],
   "source": [
    "### 03. 메타데이터 추가 ###\n",
    "docs = []\n",
    "for _, row in df2.iterrows():\n",
    "  # 필요한 메타데이터 설정\n",
    "  metadata = {\n",
    "    'asset_id': row['asset_id'],\n",
    "    'title': row['title'],\n",
    "    'original_title': row['original_title'],\n",
    "    'genre': row['genre'],\n",
    "    'adult': row['adult'],\n",
    "    'runtime': row['runtime'],\n",
    "    'release_year': row['release_year'],\n",
    "    'release_month': row['release_month'],\n",
    "    'release_day': row['release_day'],\n",
    "    'actors': row['actors'],\n",
    "    'director': row['director'],\n",
    "    'orgnl_cntry': row['orgnl_cntry'],\n",
    "    'original_language': row['original_language'],\n",
    "    'vote_average': row['vote_average'],\n",
    "    'vote_count': row['vote_count'],\n",
    "    'popularity': row['popularity']\n",
    "  }\n",
    "\n",
    "  # JSON 변환을 위해 큰따옴표를 유지하는 방식으로 저장\n",
    "  page_content = json.dumps(row.to_dict(), ensure_ascii=False)\n",
    "\n",
    "  # 각 행의 데이터를 문서로 변환\n",
    "  doc = Document(\n",
    "    page_content=page_content,\n",
    "    metadata=metadata\n",
    "  )\n",
    "  docs.append(doc)\n",
    "\n",
    "print(f\"문서의 수: {len(docs)}\")\n",
    "print('[메타데이터 예시]\\n', docs[100].metadata)"
   ]
  },
  {
   "cell_type": "code",
   "execution_count": 6,
   "metadata": {},
   "outputs": [
    {
     "name": "stdout",
     "output_type": "stream",
     "text": [
      "split된 문서의 수: 14224\n"
     ]
    }
   ],
   "source": [
    "### 04. 데이터 청크 나누기 ###\n",
    "text_splitter = RecursiveCharacterTextSplitter(\n",
    "  chunk_size=1630, chunk_overlap=0\n",
    ")\n",
    "splits = text_splitter.split_documents(docs)\n",
    "print(\"split된 문서의 수:\", len(splits))"
   ]
  },
  {
   "cell_type": "code",
   "execution_count": 7,
   "metadata": {},
   "outputs": [
    {
     "name": "stderr",
     "output_type": "stream",
     "text": [
      "C:\\Users\\USER\\AppData\\Local\\Temp\\ipykernel_23924\\3636801640.py:3: LangChainDeprecationWarning: The class `HuggingFaceEmbeddings` was deprecated in LangChain 0.2.2 and will be removed in 1.0. An updated version of the class exists in the :class:`~langchain-huggingface package and should be used instead. To use it run `pip install -U :class:`~langchain-huggingface` and import as `from :class:`~langchain_huggingface import HuggingFaceEmbeddings``.\n",
      "  embeddings = HuggingFaceEmbeddings(model_name='ibm-granite/granite-embedding-278m-multilingual')\n",
      "c:\\workspaces\\LGDXteam2\\.venv\\Lib\\site-packages\\transformers\\tokenization_utils_base.py:1601: FutureWarning: `clean_up_tokenization_spaces` was not set. It will be set to `True` by default. This behavior will be depracted in transformers v4.45, and will be then set to `False` by default. For more details check this issue: https://github.com/huggingface/transformers/issues/31884\n",
      "  warnings.warn(\n"
     ]
    }
   ],
   "source": [
    "### 05. 임베딩 모델 생성\n",
    "# https://huggingface.co/ibm-granite/granite-embedding-278m-multilingual\n",
    "embeddings = HuggingFaceEmbeddings(model_name='ibm-granite/granite-embedding-278m-multilingual')"
   ]
  },
  {
   "cell_type": "code",
   "execution_count": 8,
   "metadata": {},
   "outputs": [
    {
     "name": "stdout",
     "output_type": "stream",
     "text": [
      "Chroma 저장 완료!\n"
     ]
    }
   ],
   "source": [
    "### 06. 벡터스토어 생성 ###\n",
    "## FAISS\n",
    "vectorstore = Chroma.from_documents(\n",
    "  documents=splits,\n",
    "  embedding=embeddings,\n",
    "  persist_directory=\"../db/movies_vectorstore_chroma_1630_json\"\n",
    ")\n",
    "\n",
    "print(\"Chroma 저장 완료!\")"
   ]
  },
  {
   "cell_type": "code",
   "execution_count": 9,
   "metadata": {},
   "outputs": [
    {
     "name": "stderr",
     "output_type": "stream",
     "text": [
      "C:\\Users\\USER\\AppData\\Local\\Temp\\ipykernel_16172\\1512383776.py:2: LangChainDeprecationWarning: The class `Chroma` was deprecated in LangChain 0.2.9 and will be removed in 1.0. An updated version of the class exists in the :class:`~langchain-chroma package and should be used instead. To use it run `pip install -U :class:`~langchain-chroma` and import as `from :class:`~langchain_chroma import Chroma``.\n",
      "  new_vector_store = Chroma(persist_directory=\"../db/movies_vectorstore_chroma_1630\",\n"
     ]
    }
   ],
   "source": [
    "# 벡터스토어 로드\n",
    "new_vector_store = Chroma(persist_directory=\"../db/movies_vectorstore_chroma_1630\",\n",
    "                          embedding_function=embeddings\n",
    "                          )"
   ]
  },
  {
   "cell_type": "code",
   "execution_count": null,
   "metadata": {},
   "outputs": [],
   "source": []
  }
 ],
 "metadata": {
  "kernelspec": {
   "display_name": ".venv",
   "language": "python",
   "name": "python3"
  },
  "language_info": {
   "codemirror_mode": {
    "name": "ipython",
    "version": 3
   },
   "file_extension": ".py",
   "mimetype": "text/x-python",
   "name": "python",
   "nbconvert_exporter": "python",
   "pygments_lexer": "ipython3",
   "version": "3.11.9"
  }
 },
 "nbformat": 4,
 "nbformat_minor": 4
}

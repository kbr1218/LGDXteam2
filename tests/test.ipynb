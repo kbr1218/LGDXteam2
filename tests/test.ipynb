{
 "cells": [
  {
   "cell_type": "code",
   "execution_count": 20,
   "metadata": {},
   "outputs": [],
   "source": [
    "from langchain_community.embeddings import HuggingFaceEmbeddings\n",
    "\n",
    "# recommend.py\n",
    "from langchain.prompts import ChatPromptTemplate\n",
    "from langchain.output_parsers import ResponseSchema, StructuredOutputParser\n",
    "from langchain_google_genai import ChatGoogleGenerativeAI\n",
    "from langchain_core.runnables import RunnablePassthrough\n",
    "# from config import GEMINI_API_KEY\n",
    "\n",
    "from langchain_community.vectorstores import Chroma\n",
    "# from config import VECTORSTORE_PATH_VIEW_1\n",
    "\n",
    "import pandas as pd\n",
    "import json"
   ]
  },
  {
   "cell_type": "code",
   "execution_count": 3,
   "metadata": {},
   "outputs": [
    {
     "name": "stderr",
     "output_type": "stream",
     "text": [
      "C:\\Users\\USER\\AppData\\Local\\Temp\\ipykernel_19432\\1938361246.py:2: LangChainDeprecationWarning: The class `HuggingFaceEmbeddings` was deprecated in LangChain 0.2.2 and will be removed in 1.0. An updated version of the class exists in the :class:`~langchain-huggingface package and should be used instead. To use it run `pip install -U :class:`~langchain-huggingface` and import as `from :class:`~langchain_huggingface import HuggingFaceEmbeddings``.\n",
      "  embeddings = HuggingFaceEmbeddings(model_name='ibm-granite/granite-embedding-278m-multilingual')\n",
      "c:\\workspaces\\LGDXteam2\\.venv\\Lib\\site-packages\\transformers\\tokenization_utils_base.py:1601: FutureWarning: `clean_up_tokenization_spaces` was not set. It will be set to `True` by default. This behavior will be depracted in transformers v4.45, and will be then set to `False` by default. For more details check this issue: https://github.com/huggingface/transformers/issues/31884\n",
      "  warnings.warn(\n"
     ]
    }
   ],
   "source": [
    "# 임베딩 모델 로드\n",
    "embeddings = HuggingFaceEmbeddings(model_name='ibm-granite/granite-embedding-278m-multilingual')"
   ]
  },
  {
   "cell_type": "markdown",
   "metadata": {},
   "source": [
    "# 시청기록 리트리버 테스트"
   ]
  },
  {
   "cell_type": "code",
   "execution_count": 27,
   "metadata": {},
   "outputs": [],
   "source": [
    "views_vectorstore = Chroma(persist_directory=VECTORSTORE_PATH_VIEW_1,\n",
    "                               embedding_function=embeddings)"
   ]
  },
  {
   "cell_type": "code",
   "execution_count": 36,
   "metadata": {},
   "outputs": [
    {
     "name": "stdout",
     "output_type": "stream",
     "text": [
      ">>>>>>> Gemini loaded from recommend chain...\n"
     ]
    }
   ],
   "source": [
    "# LLM 모델 생성 (1. GEMINI 2. OpenAI)\n",
    "def load_gemini():\n",
    "    model = ChatGoogleGenerativeAI(\n",
    "        model='gemini-1.5-flash',\n",
    "        temperature=0.3,\n",
    "        max_tokens=5000,\n",
    "        api_key=GEMINI_API_KEY\n",
    "    )\n",
    "    print(\">>>>>>> Gemini loaded from recommend chain...\")\n",
    "    return model\n",
    "llm = load_gemini()"
   ]
  },
  {
   "cell_type": "code",
   "execution_count": 33,
   "metadata": {},
   "outputs": [],
   "source": [
    "# 🎯 Define Response Schema\n",
    "recommend_response_schemas = [\n",
    "    ResponseSchema(name=\"candidates\",\n",
    "                   description=\"A list of user IDs who watched a VOD on the given date.\")\n",
    "]\n",
    "\n",
    "output_parser = StructuredOutputParser.from_response_schemas(recommend_response_schemas)\n",
    "recommend_chain_format_instructions = output_parser.get_format_instructions()"
   ]
  },
  {
   "cell_type": "code",
   "execution_count": 34,
   "metadata": {},
   "outputs": [],
   "source": [
    "retriever = views_vectorstore.as_retriever(\n",
    "    search_type=\"similarity\",\n",
    "    search_kwargs={\"k\": 10}  # Retrieve 10 most similar results\n",
    ")"
   ]
  },
  {
   "cell_type": "code",
   "execution_count": 35,
   "metadata": {},
   "outputs": [],
   "source": [
    "recommend_template = \"\"\"\n",
    "You are a system that retrieves user IDs who watched a VOD on a given date.\n",
    "Use the provided retrieved user watch history to return the top 10 user IDs.\n",
    "\n",
    "[Search Results]\n",
    "{retrieved_documents}\n",
    "\n",
    "Return a JSON list of user IDs.\n",
    "\n",
    "{recommend_chain_format_instructions}\n",
    "\"\"\"\n",
    "\n",
    "recommend_chain_prompt = ChatPromptTemplate.from_template(recommend_template,\n",
    "                                                          partial_variables={'recommend_chain_format_instructions': recommend_chain_format_instructions})"
   ]
  },
  {
   "cell_type": "code",
   "execution_count": 37,
   "metadata": {},
   "outputs": [],
   "source": [
    "recommend_chain = (\n",
    "    {\"user_input\": RunnablePassthrough(),\n",
    "     \"retrieved_documents\": retriever}  # ✅ Correctly pass retriever output\n",
    "    | recommend_chain_prompt\n",
    "    | llm\n",
    "    | output_parser  # ✅ Use structured output parser\n",
    ")"
   ]
  },
  {
   "cell_type": "code",
   "execution_count": 38,
   "metadata": {},
   "outputs": [],
   "source": [
    "response = recommend_chain.invoke(\"3월 17일에 영화를 본 사람 있어?\")"
   ]
  },
  {
   "cell_type": "code",
   "execution_count": 39,
   "metadata": {},
   "outputs": [
    {
     "name": "stdout",
     "output_type": "stream",
     "text": [
      "{'candidates': ['user001174', 'user000203', 'user000032', 'user003174']}\n"
     ]
    }
   ],
   "source": [
    "print(response)"
   ]
  },
  {
   "cell_type": "markdown",
   "metadata": {},
   "source": [
    "# 여기서부터는 movie_vectordb test"
   ]
  },
  {
   "cell_type": "code",
   "execution_count": 4,
   "metadata": {},
   "outputs": [
    {
     "name": "stderr",
     "output_type": "stream",
     "text": [
      "C:\\Users\\USER\\AppData\\Local\\Temp\\ipykernel_19432\\1524529676.py:1: LangChainDeprecationWarning: The class `Chroma` was deprecated in LangChain 0.2.9 and will be removed in 1.0. An updated version of the class exists in the :class:`~langchain-chroma package and should be used instead. To use it run `pip install -U :class:`~langchain-chroma` and import as `from :class:`~langchain_chroma import Chroma``.\n",
      "  movies_vectorstore = Chroma(persist_directory=\"./db/movies_vectorstore_chroma_1630\", embedding_function=embeddings)\n"
     ]
    }
   ],
   "source": [
    "movies_vectorstore = Chroma(persist_directory=\"./db/movies_vectorstore_chroma_1630\", embedding_function=embeddings)"
   ]
  },
  {
   "cell_type": "code",
   "execution_count": 5,
   "metadata": {},
   "outputs": [
    {
     "name": "stdout",
     "output_type": "stream",
     "text": [
      ">>>>>>> Gemini loaded from recommend chain...\n"
     ]
    }
   ],
   "source": [
    "# LLM 모델 생성 (1. GEMINI 2. OpenAI)\n",
    "def load_gemini():\n",
    "    model = ChatGoogleGenerativeAI(\n",
    "        model='gemini-1.5-flash',\n",
    "        temperature=0.3,\n",
    "        max_tokens=5000,\n",
    "        api_key=GEMINI_API_KEY\n",
    "    )\n",
    "    print(\">>>>>>> Gemini loaded from recommend chain...\")\n",
    "    return model\n",
    "llm = load_gemini()"
   ]
  },
  {
   "cell_type": "code",
   "execution_count": 6,
   "metadata": {},
   "outputs": [],
   "source": [
    "# 🎯 Define Response Schema\n",
    "recommend_response_schemas = [\n",
    "    ResponseSchema(name=\"candidates\",\n",
    "                   description=\"A list of name of title.\")\n",
    "]\n",
    "\n",
    "output_parser = StructuredOutputParser.from_response_schemas(recommend_response_schemas)\n",
    "recommend_chain_format_instructions = output_parser.get_format_instructions()"
   ]
  },
  {
   "cell_type": "code",
   "execution_count": 7,
   "metadata": {},
   "outputs": [],
   "source": [
    "retriever = movies_vectorstore.as_retriever(\n",
    "    search_type=\"similarity\",\n",
    "    search_kwargs={\"k\": 10}  # Retrieve 10 most similar results\n",
    ")"
   ]
  },
  {
   "cell_type": "code",
   "execution_count": 8,
   "metadata": {},
   "outputs": [],
   "source": [
    "recommend_template = \"\"\"\n",
    "영화 제목을 반환하는 retriever 역할\n",
    "\n",
    "[Search Results]\n",
    "{retrieved_documents}\n",
    "\n",
    "Return a JSON list of user IDs.\n",
    "\n",
    "{recommend_chain_format_instructions}\n",
    "\"\"\"\n",
    "\n",
    "recommend_chain_prompt = ChatPromptTemplate.from_template(recommend_template,\n",
    "                                                          partial_variables={'recommend_chain_format_instructions': recommend_chain_format_instructions})"
   ]
  },
  {
   "cell_type": "code",
   "execution_count": 9,
   "metadata": {},
   "outputs": [],
   "source": [
    "recommend_chain = (\n",
    "    {\"user_input\": RunnablePassthrough(),\n",
    "     \"retrieved_documents\": retriever}  # ✅ Correctly pass retriever output\n",
    "    | recommend_chain_prompt\n",
    "    | llm\n",
    "    | output_parser  # ✅ Use structured output parser\n",
    ")"
   ]
  },
  {
   "cell_type": "code",
   "execution_count": 10,
   "metadata": {},
   "outputs": [
    {
     "name": "stdout",
     "output_type": "stream",
     "text": [
      "{'candidates': ['명량-회오리 바다를 향하여', '누구나 제명에 죽고 싶다', '청년경찰', '프랑스 영화처럼', '소년들', '개들의 도시', '오싱', '천국으로 가는 이삿짐', '돌아간다', '사잇소리']}\n"
     ]
    }
   ],
   "source": [
    "response = recommend_chain.invoke(\"제목에 숫자가 들어가는 영화들\")\n",
    "print(response)"
   ]
  },
  {
   "cell_type": "markdown",
   "metadata": {},
   "source": [
    "<br><hr>\n",
    "\n",
    "# 마트 데이터 추가 전처리\n",
    "- release_date에서 release_month, release_day cols 추가\n",
    "- \"release_date\", \"movie_id\" cols 삭제\n",
    "- column 순서 변경"
   ]
  },
  {
   "cell_type": "code",
   "execution_count": 11,
   "metadata": {},
   "outputs": [
    {
     "data": {
      "text/plain": [
       "(14224, 20)"
      ]
     },
     "execution_count": 11,
     "metadata": {},
     "output_type": "execute_result"
    }
   ],
   "source": [
    "df = pd.read_csv(\"data/movies_mart_최종_forreal_forgood.csv\", encoding='utf8')\n",
    "df.shape"
   ]
  },
  {
   "cell_type": "code",
   "execution_count": 12,
   "metadata": {},
   "outputs": [
    {
     "data": {
      "text/html": [
       "<div>\n",
       "<style scoped>\n",
       "    .dataframe tbody tr th:only-of-type {\n",
       "        vertical-align: middle;\n",
       "    }\n",
       "\n",
       "    .dataframe tbody tr th {\n",
       "        vertical-align: top;\n",
       "    }\n",
       "\n",
       "    .dataframe thead th {\n",
       "        text-align: right;\n",
       "    }\n",
       "</style>\n",
       "<table border=\"1\" class=\"dataframe\">\n",
       "  <thead>\n",
       "    <tr style=\"text-align: right;\">\n",
       "      <th></th>\n",
       "      <th>asset_id</th>\n",
       "      <th>movie_id</th>\n",
       "      <th>title</th>\n",
       "      <th>original_title</th>\n",
       "      <th>genre</th>\n",
       "      <th>adult</th>\n",
       "      <th>runtime</th>\n",
       "      <th>release_year</th>\n",
       "      <th>release_date</th>\n",
       "      <th>actors</th>\n",
       "      <th>director</th>\n",
       "      <th>orgnl_cntry</th>\n",
       "      <th>original_language</th>\n",
       "      <th>vote_average</th>\n",
       "      <th>vote_count</th>\n",
       "      <th>popularity</th>\n",
       "      <th>poster_path</th>\n",
       "      <th>backdrop_path</th>\n",
       "      <th>overview</th>\n",
       "      <th>분류</th>\n",
       "    </tr>\n",
       "  </thead>\n",
       "  <tbody>\n",
       "    <tr>\n",
       "      <th>0</th>\n",
       "      <td>cjc|M4820686LSGE28658201</td>\n",
       "      <td>11</td>\n",
       "      <td>스타워즈 4-새로운 희망</td>\n",
       "      <td>Star Wars</td>\n",
       "      <td>SF,모험,액션</td>\n",
       "      <td>False</td>\n",
       "      <td>121.0</td>\n",
       "      <td>1977.0</td>\n",
       "      <td>1977-05-25</td>\n",
       "      <td>마크 해밀,캐리 피셔,해리슨 포드,알렉 기네스,피터 커싱</td>\n",
       "      <td>조지 루카스</td>\n",
       "      <td>미국</td>\n",
       "      <td>en</td>\n",
       "      <td>8.204</td>\n",
       "      <td>20724.0</td>\n",
       "      <td>118.411</td>\n",
       "      <td>/7XFfURIFCJxN1mfBg0SAjk5yGzg.jpg</td>\n",
       "      <td>/4qCqAdHcNKeAHcK8tJ8wNJZa9cx.jpg</td>\n",
       "      <td>공화국이 붕괴하고 제국이 수립된 뒤 20년, 제다이 기사단은 전멸하고 강력한 제국군...</td>\n",
       "      <td>영화</td>\n",
       "    </tr>\n",
       "    <tr>\n",
       "      <th>1</th>\n",
       "      <td>cjc|M4774453LSGJ90713601</td>\n",
       "      <td>13</td>\n",
       "      <td>포레스트검프</td>\n",
       "      <td>Forrest Gump</td>\n",
       "      <td>드라마,로맨스,코미디</td>\n",
       "      <td>False</td>\n",
       "      <td>142.0</td>\n",
       "      <td>1994.0</td>\n",
       "      <td>1994-06-23</td>\n",
       "      <td>톰 행크스,로빈 라이트,샐리 필드,게리 시나이즈,미켈티 윌리암슨</td>\n",
       "      <td>로버트 저메키스</td>\n",
       "      <td>미국</td>\n",
       "      <td>en</td>\n",
       "      <td>8.470</td>\n",
       "      <td>27620.0</td>\n",
       "      <td>111.752</td>\n",
       "      <td>/xdJxoq0dtkchOkUz5UVKuxn7a2V.jpg</td>\n",
       "      <td>/mzfx54nfDPTUXZOG48u4LaEheDy.jpg</td>\n",
       "      <td>불편한 다리, 남들보다 조금 떨어지는 지능을 가진 포레스트 검프는 헌신적인 어머니의...</td>\n",
       "      <td>영화</td>\n",
       "    </tr>\n",
       "  </tbody>\n",
       "</table>\n",
       "</div>"
      ],
      "text/plain": [
       "                   asset_id movie_id          title original_title  \\\n",
       "0  cjc|M4820686LSGE28658201       11  스타워즈 4-새로운 희망      Star Wars   \n",
       "1  cjc|M4774453LSGJ90713601       13         포레스트검프   Forrest Gump   \n",
       "\n",
       "         genre  adult  runtime  release_year release_date  \\\n",
       "0     SF,모험,액션  False    121.0        1977.0   1977-05-25   \n",
       "1  드라마,로맨스,코미디  False    142.0        1994.0   1994-06-23   \n",
       "\n",
       "                                actors  director orgnl_cntry  \\\n",
       "0      마크 해밀,캐리 피셔,해리슨 포드,알렉 기네스,피터 커싱    조지 루카스          미국   \n",
       "1  톰 행크스,로빈 라이트,샐리 필드,게리 시나이즈,미켈티 윌리암슨  로버트 저메키스          미국   \n",
       "\n",
       "  original_language  vote_average  vote_count  popularity  \\\n",
       "0                en         8.204     20724.0     118.411   \n",
       "1                en         8.470     27620.0     111.752   \n",
       "\n",
       "                        poster_path                     backdrop_path  \\\n",
       "0  /7XFfURIFCJxN1mfBg0SAjk5yGzg.jpg  /4qCqAdHcNKeAHcK8tJ8wNJZa9cx.jpg   \n",
       "1  /xdJxoq0dtkchOkUz5UVKuxn7a2V.jpg  /mzfx54nfDPTUXZOG48u4LaEheDy.jpg   \n",
       "\n",
       "                                            overview  분류  \n",
       "0  공화국이 붕괴하고 제국이 수립된 뒤 20년, 제다이 기사단은 전멸하고 강력한 제국군...  영화  \n",
       "1  불편한 다리, 남들보다 조금 떨어지는 지능을 가진 포레스트 검프는 헌신적인 어머니의...  영화  "
      ]
     },
     "execution_count": 12,
     "metadata": {},
     "output_type": "execute_result"
    }
   ],
   "source": [
    "df.head(2)"
   ]
  },
  {
   "cell_type": "code",
   "execution_count": 13,
   "metadata": {},
   "outputs": [
    {
     "data": {
      "text/html": [
       "<div>\n",
       "<style scoped>\n",
       "    .dataframe tbody tr th:only-of-type {\n",
       "        vertical-align: middle;\n",
       "    }\n",
       "\n",
       "    .dataframe tbody tr th {\n",
       "        vertical-align: top;\n",
       "    }\n",
       "\n",
       "    .dataframe thead th {\n",
       "        text-align: right;\n",
       "    }\n",
       "</style>\n",
       "<table border=\"1\" class=\"dataframe\">\n",
       "  <thead>\n",
       "    <tr style=\"text-align: right;\">\n",
       "      <th></th>\n",
       "      <th>asset_id</th>\n",
       "      <th>movie_id</th>\n",
       "      <th>title</th>\n",
       "      <th>original_title</th>\n",
       "      <th>genre</th>\n",
       "      <th>adult</th>\n",
       "      <th>runtime</th>\n",
       "      <th>release_year</th>\n",
       "      <th>release_date</th>\n",
       "      <th>actors</th>\n",
       "      <th>...</th>\n",
       "      <th>original_language</th>\n",
       "      <th>vote_average</th>\n",
       "      <th>vote_count</th>\n",
       "      <th>popularity</th>\n",
       "      <th>poster_path</th>\n",
       "      <th>backdrop_path</th>\n",
       "      <th>overview</th>\n",
       "      <th>분류</th>\n",
       "      <th>release_month</th>\n",
       "      <th>release_day</th>\n",
       "    </tr>\n",
       "  </thead>\n",
       "  <tbody>\n",
       "    <tr>\n",
       "      <th>0</th>\n",
       "      <td>cjc|M4820686LSGE28658201</td>\n",
       "      <td>11</td>\n",
       "      <td>스타워즈 4-새로운 희망</td>\n",
       "      <td>Star Wars</td>\n",
       "      <td>SF,모험,액션</td>\n",
       "      <td>False</td>\n",
       "      <td>121.0</td>\n",
       "      <td>1977.0</td>\n",
       "      <td>1977-05-25</td>\n",
       "      <td>마크 해밀,캐리 피셔,해리슨 포드,알렉 기네스,피터 커싱</td>\n",
       "      <td>...</td>\n",
       "      <td>en</td>\n",
       "      <td>8.204</td>\n",
       "      <td>20724.0</td>\n",
       "      <td>118.411</td>\n",
       "      <td>/7XFfURIFCJxN1mfBg0SAjk5yGzg.jpg</td>\n",
       "      <td>/4qCqAdHcNKeAHcK8tJ8wNJZa9cx.jpg</td>\n",
       "      <td>공화국이 붕괴하고 제국이 수립된 뒤 20년, 제다이 기사단은 전멸하고 강력한 제국군...</td>\n",
       "      <td>영화</td>\n",
       "      <td>5.0</td>\n",
       "      <td>25.0</td>\n",
       "    </tr>\n",
       "    <tr>\n",
       "      <th>1</th>\n",
       "      <td>cjc|M4774453LSGJ90713601</td>\n",
       "      <td>13</td>\n",
       "      <td>포레스트검프</td>\n",
       "      <td>Forrest Gump</td>\n",
       "      <td>드라마,로맨스,코미디</td>\n",
       "      <td>False</td>\n",
       "      <td>142.0</td>\n",
       "      <td>1994.0</td>\n",
       "      <td>1994-06-23</td>\n",
       "      <td>톰 행크스,로빈 라이트,샐리 필드,게리 시나이즈,미켈티 윌리암슨</td>\n",
       "      <td>...</td>\n",
       "      <td>en</td>\n",
       "      <td>8.470</td>\n",
       "      <td>27620.0</td>\n",
       "      <td>111.752</td>\n",
       "      <td>/xdJxoq0dtkchOkUz5UVKuxn7a2V.jpg</td>\n",
       "      <td>/mzfx54nfDPTUXZOG48u4LaEheDy.jpg</td>\n",
       "      <td>불편한 다리, 남들보다 조금 떨어지는 지능을 가진 포레스트 검프는 헌신적인 어머니의...</td>\n",
       "      <td>영화</td>\n",
       "      <td>6.0</td>\n",
       "      <td>23.0</td>\n",
       "    </tr>\n",
       "  </tbody>\n",
       "</table>\n",
       "<p>2 rows × 22 columns</p>\n",
       "</div>"
      ],
      "text/plain": [
       "                   asset_id movie_id          title original_title  \\\n",
       "0  cjc|M4820686LSGE28658201       11  스타워즈 4-새로운 희망      Star Wars   \n",
       "1  cjc|M4774453LSGJ90713601       13         포레스트검프   Forrest Gump   \n",
       "\n",
       "         genre  adult  runtime  release_year release_date  \\\n",
       "0     SF,모험,액션  False    121.0        1977.0   1977-05-25   \n",
       "1  드라마,로맨스,코미디  False    142.0        1994.0   1994-06-23   \n",
       "\n",
       "                                actors  ... original_language vote_average  \\\n",
       "0      마크 해밀,캐리 피셔,해리슨 포드,알렉 기네스,피터 커싱  ...                en        8.204   \n",
       "1  톰 행크스,로빈 라이트,샐리 필드,게리 시나이즈,미켈티 윌리암슨  ...                en        8.470   \n",
       "\n",
       "  vote_count  popularity                       poster_path  \\\n",
       "0    20724.0     118.411  /7XFfURIFCJxN1mfBg0SAjk5yGzg.jpg   \n",
       "1    27620.0     111.752  /xdJxoq0dtkchOkUz5UVKuxn7a2V.jpg   \n",
       "\n",
       "                      backdrop_path  \\\n",
       "0  /4qCqAdHcNKeAHcK8tJ8wNJZa9cx.jpg   \n",
       "1  /mzfx54nfDPTUXZOG48u4LaEheDy.jpg   \n",
       "\n",
       "                                            overview  분류 release_month  \\\n",
       "0  공화국이 붕괴하고 제국이 수립된 뒤 20년, 제다이 기사단은 전멸하고 강력한 제국군...  영화           5.0   \n",
       "1  불편한 다리, 남들보다 조금 떨어지는 지능을 가진 포레스트 검프는 헌신적인 어머니의...  영화           6.0   \n",
       "\n",
       "  release_day  \n",
       "0        25.0  \n",
       "1        23.0  \n",
       "\n",
       "[2 rows x 22 columns]"
      ]
     },
     "execution_count": 13,
     "metadata": {},
     "output_type": "execute_result"
    }
   ],
   "source": [
    "# release_date >> release_month & release_day로 변경\n",
    "df[\"release_date\"] = pd.to_datetime(df[\"release_date\"])\n",
    "\n",
    "df['release_month'] = df['release_date'].dt.month\n",
    "df['release_day'] = df['release_date'].dt.day\n",
    "df.head(2)"
   ]
  },
  {
   "cell_type": "code",
   "execution_count": 14,
   "metadata": {},
   "outputs": [
    {
     "data": {
      "text/html": [
       "<div>\n",
       "<style scoped>\n",
       "    .dataframe tbody tr th:only-of-type {\n",
       "        vertical-align: middle;\n",
       "    }\n",
       "\n",
       "    .dataframe tbody tr th {\n",
       "        vertical-align: top;\n",
       "    }\n",
       "\n",
       "    .dataframe thead th {\n",
       "        text-align: right;\n",
       "    }\n",
       "</style>\n",
       "<table border=\"1\" class=\"dataframe\">\n",
       "  <thead>\n",
       "    <tr style=\"text-align: right;\">\n",
       "      <th></th>\n",
       "      <th>asset_id</th>\n",
       "      <th>title</th>\n",
       "      <th>original_title</th>\n",
       "      <th>genre</th>\n",
       "      <th>adult</th>\n",
       "      <th>runtime</th>\n",
       "      <th>release_year</th>\n",
       "      <th>actors</th>\n",
       "      <th>director</th>\n",
       "      <th>orgnl_cntry</th>\n",
       "      <th>original_language</th>\n",
       "      <th>vote_average</th>\n",
       "      <th>vote_count</th>\n",
       "      <th>popularity</th>\n",
       "      <th>poster_path</th>\n",
       "      <th>backdrop_path</th>\n",
       "      <th>overview</th>\n",
       "      <th>분류</th>\n",
       "      <th>release_month</th>\n",
       "      <th>release_day</th>\n",
       "    </tr>\n",
       "  </thead>\n",
       "  <tbody>\n",
       "    <tr>\n",
       "      <th>0</th>\n",
       "      <td>cjc|M4820686LSGE28658201</td>\n",
       "      <td>스타워즈 4-새로운 희망</td>\n",
       "      <td>Star Wars</td>\n",
       "      <td>SF,모험,액션</td>\n",
       "      <td>False</td>\n",
       "      <td>121.0</td>\n",
       "      <td>1977.0</td>\n",
       "      <td>마크 해밀,캐리 피셔,해리슨 포드,알렉 기네스,피터 커싱</td>\n",
       "      <td>조지 루카스</td>\n",
       "      <td>미국</td>\n",
       "      <td>en</td>\n",
       "      <td>8.204</td>\n",
       "      <td>20724.0</td>\n",
       "      <td>118.411</td>\n",
       "      <td>/7XFfURIFCJxN1mfBg0SAjk5yGzg.jpg</td>\n",
       "      <td>/4qCqAdHcNKeAHcK8tJ8wNJZa9cx.jpg</td>\n",
       "      <td>공화국이 붕괴하고 제국이 수립된 뒤 20년, 제다이 기사단은 전멸하고 강력한 제국군...</td>\n",
       "      <td>영화</td>\n",
       "      <td>5.0</td>\n",
       "      <td>25.0</td>\n",
       "    </tr>\n",
       "  </tbody>\n",
       "</table>\n",
       "</div>"
      ],
      "text/plain": [
       "                   asset_id          title original_title     genre  adult  \\\n",
       "0  cjc|M4820686LSGE28658201  스타워즈 4-새로운 희망      Star Wars  SF,모험,액션  False   \n",
       "\n",
       "   runtime  release_year                           actors director  \\\n",
       "0    121.0        1977.0  마크 해밀,캐리 피셔,해리슨 포드,알렉 기네스,피터 커싱   조지 루카스   \n",
       "\n",
       "  orgnl_cntry original_language  vote_average  vote_count  popularity  \\\n",
       "0          미국                en         8.204     20724.0     118.411   \n",
       "\n",
       "                        poster_path                     backdrop_path  \\\n",
       "0  /7XFfURIFCJxN1mfBg0SAjk5yGzg.jpg  /4qCqAdHcNKeAHcK8tJ8wNJZa9cx.jpg   \n",
       "\n",
       "                                            overview  분류  release_month  \\\n",
       "0  공화국이 붕괴하고 제국이 수립된 뒤 20년, 제다이 기사단은 전멸하고 강력한 제국군...  영화            5.0   \n",
       "\n",
       "   release_day  \n",
       "0         25.0  "
      ]
     },
     "execution_count": 14,
     "metadata": {},
     "output_type": "execute_result"
    }
   ],
   "source": [
    "# release_date과 movie_id 삭제\n",
    "df.drop([\"release_date\", \"movie_id\"], axis=1, inplace=True)\n",
    "df.head(1)"
   ]
  },
  {
   "cell_type": "code",
   "execution_count": 17,
   "metadata": {},
   "outputs": [],
   "source": [
    "# column 순서 변경\n",
    "new_order = [\n",
    "    'asset_id', 'title', 'original_title', 'genre', 'adult',\n",
    "    'runtime', 'release_year', 'release_month', 'release_day', 'actors', 'director', 'orgnl_cntry',\n",
    "    'original_language', 'vote_average', 'vote_count', 'popularity',\n",
    "    'poster_path', 'backdrop_path', 'overview', '분류'\n",
    "]"
   ]
  },
  {
   "cell_type": "code",
   "execution_count": 18,
   "metadata": {},
   "outputs": [
    {
     "data": {
      "text/html": [
       "<div>\n",
       "<style scoped>\n",
       "    .dataframe tbody tr th:only-of-type {\n",
       "        vertical-align: middle;\n",
       "    }\n",
       "\n",
       "    .dataframe tbody tr th {\n",
       "        vertical-align: top;\n",
       "    }\n",
       "\n",
       "    .dataframe thead th {\n",
       "        text-align: right;\n",
       "    }\n",
       "</style>\n",
       "<table border=\"1\" class=\"dataframe\">\n",
       "  <thead>\n",
       "    <tr style=\"text-align: right;\">\n",
       "      <th></th>\n",
       "      <th>asset_id</th>\n",
       "      <th>title</th>\n",
       "      <th>original_title</th>\n",
       "      <th>genre</th>\n",
       "      <th>adult</th>\n",
       "      <th>runtime</th>\n",
       "      <th>release_year</th>\n",
       "      <th>release_month</th>\n",
       "      <th>release_day</th>\n",
       "      <th>actors</th>\n",
       "      <th>director</th>\n",
       "      <th>orgnl_cntry</th>\n",
       "      <th>original_language</th>\n",
       "      <th>vote_average</th>\n",
       "      <th>vote_count</th>\n",
       "      <th>popularity</th>\n",
       "      <th>poster_path</th>\n",
       "      <th>backdrop_path</th>\n",
       "      <th>overview</th>\n",
       "      <th>분류</th>\n",
       "    </tr>\n",
       "  </thead>\n",
       "  <tbody>\n",
       "    <tr>\n",
       "      <th>0</th>\n",
       "      <td>cjc|M4820686LSGE28658201</td>\n",
       "      <td>스타워즈 4-새로운 희망</td>\n",
       "      <td>Star Wars</td>\n",
       "      <td>SF,모험,액션</td>\n",
       "      <td>False</td>\n",
       "      <td>121.0</td>\n",
       "      <td>1977.0</td>\n",
       "      <td>5.0</td>\n",
       "      <td>25.0</td>\n",
       "      <td>마크 해밀,캐리 피셔,해리슨 포드,알렉 기네스,피터 커싱</td>\n",
       "      <td>조지 루카스</td>\n",
       "      <td>미국</td>\n",
       "      <td>en</td>\n",
       "      <td>8.204</td>\n",
       "      <td>20724.0</td>\n",
       "      <td>118.411</td>\n",
       "      <td>/7XFfURIFCJxN1mfBg0SAjk5yGzg.jpg</td>\n",
       "      <td>/4qCqAdHcNKeAHcK8tJ8wNJZa9cx.jpg</td>\n",
       "      <td>공화국이 붕괴하고 제국이 수립된 뒤 20년, 제다이 기사단은 전멸하고 강력한 제국군...</td>\n",
       "      <td>영화</td>\n",
       "    </tr>\n",
       "  </tbody>\n",
       "</table>\n",
       "</div>"
      ],
      "text/plain": [
       "                   asset_id          title original_title     genre  adult  \\\n",
       "0  cjc|M4820686LSGE28658201  스타워즈 4-새로운 희망      Star Wars  SF,모험,액션  False   \n",
       "\n",
       "   runtime  release_year  release_month  release_day  \\\n",
       "0    121.0        1977.0            5.0         25.0   \n",
       "\n",
       "                            actors director orgnl_cntry original_language  \\\n",
       "0  마크 해밀,캐리 피셔,해리슨 포드,알렉 기네스,피터 커싱   조지 루카스          미국                en   \n",
       "\n",
       "   vote_average  vote_count  popularity                       poster_path  \\\n",
       "0         8.204     20724.0     118.411  /7XFfURIFCJxN1mfBg0SAjk5yGzg.jpg   \n",
       "\n",
       "                      backdrop_path  \\\n",
       "0  /4qCqAdHcNKeAHcK8tJ8wNJZa9cx.jpg   \n",
       "\n",
       "                                            overview  분류  \n",
       "0  공화국이 붕괴하고 제국이 수립된 뒤 20년, 제다이 기사단은 전멸하고 강력한 제국군...  영화  "
      ]
     },
     "execution_count": 18,
     "metadata": {},
     "output_type": "execute_result"
    }
   ],
   "source": [
    "# 열 순서 변경\n",
    "df = df[new_order]\n",
    "df.head(1)"
   ]
  },
  {
   "cell_type": "code",
   "execution_count": 19,
   "metadata": {},
   "outputs": [],
   "source": [
    "# date 열 + runtime + vote_count 정수값으로 변경\n",
    "# 실수(float) → 정수(Int64) 변환 (NaN 허용)\n",
    "df['runtime'] = df['runtime'].astype(pd.Int64Dtype())\n",
    "df['release_year'] = df['release_year'].astype(pd.Int64Dtype())\n",
    "df['release_month'] = df['release_month'].astype(pd.Int64Dtype())\n",
    "df['release_day'] = df['release_day'].astype(pd.Int64Dtype())\n",
    "df['vote_count'] = df['vote_count'].astype(pd.Int64Dtype())\n"
   ]
  },
  {
   "cell_type": "code",
   "execution_count": 20,
   "metadata": {},
   "outputs": [
    {
     "data": {
      "text/html": [
       "<div>\n",
       "<style scoped>\n",
       "    .dataframe tbody tr th:only-of-type {\n",
       "        vertical-align: middle;\n",
       "    }\n",
       "\n",
       "    .dataframe tbody tr th {\n",
       "        vertical-align: top;\n",
       "    }\n",
       "\n",
       "    .dataframe thead th {\n",
       "        text-align: right;\n",
       "    }\n",
       "</style>\n",
       "<table border=\"1\" class=\"dataframe\">\n",
       "  <thead>\n",
       "    <tr style=\"text-align: right;\">\n",
       "      <th></th>\n",
       "      <th>asset_id</th>\n",
       "      <th>title</th>\n",
       "      <th>original_title</th>\n",
       "      <th>genre</th>\n",
       "      <th>adult</th>\n",
       "      <th>runtime</th>\n",
       "      <th>release_year</th>\n",
       "      <th>release_month</th>\n",
       "      <th>release_day</th>\n",
       "      <th>actors</th>\n",
       "      <th>director</th>\n",
       "      <th>orgnl_cntry</th>\n",
       "      <th>original_language</th>\n",
       "      <th>vote_average</th>\n",
       "      <th>vote_count</th>\n",
       "      <th>popularity</th>\n",
       "      <th>poster_path</th>\n",
       "      <th>backdrop_path</th>\n",
       "      <th>overview</th>\n",
       "      <th>분류</th>\n",
       "    </tr>\n",
       "  </thead>\n",
       "  <tbody>\n",
       "    <tr>\n",
       "      <th>0</th>\n",
       "      <td>cjc|M4820686LSGE28658201</td>\n",
       "      <td>스타워즈 4-새로운 희망</td>\n",
       "      <td>Star Wars</td>\n",
       "      <td>SF,모험,액션</td>\n",
       "      <td>False</td>\n",
       "      <td>121</td>\n",
       "      <td>1977</td>\n",
       "      <td>5</td>\n",
       "      <td>25</td>\n",
       "      <td>마크 해밀,캐리 피셔,해리슨 포드,알렉 기네스,피터 커싱</td>\n",
       "      <td>조지 루카스</td>\n",
       "      <td>미국</td>\n",
       "      <td>en</td>\n",
       "      <td>8.204</td>\n",
       "      <td>20724</td>\n",
       "      <td>118.411</td>\n",
       "      <td>/7XFfURIFCJxN1mfBg0SAjk5yGzg.jpg</td>\n",
       "      <td>/4qCqAdHcNKeAHcK8tJ8wNJZa9cx.jpg</td>\n",
       "      <td>공화국이 붕괴하고 제국이 수립된 뒤 20년, 제다이 기사단은 전멸하고 강력한 제국군...</td>\n",
       "      <td>영화</td>\n",
       "    </tr>\n",
       "  </tbody>\n",
       "</table>\n",
       "</div>"
      ],
      "text/plain": [
       "                   asset_id          title original_title     genre  adult  \\\n",
       "0  cjc|M4820686LSGE28658201  스타워즈 4-새로운 희망      Star Wars  SF,모험,액션  False   \n",
       "\n",
       "   runtime  release_year  release_month  release_day  \\\n",
       "0      121          1977              5           25   \n",
       "\n",
       "                            actors director orgnl_cntry original_language  \\\n",
       "0  마크 해밀,캐리 피셔,해리슨 포드,알렉 기네스,피터 커싱   조지 루카스          미국                en   \n",
       "\n",
       "   vote_average  vote_count  popularity                       poster_path  \\\n",
       "0         8.204       20724     118.411  /7XFfURIFCJxN1mfBg0SAjk5yGzg.jpg   \n",
       "\n",
       "                      backdrop_path  \\\n",
       "0  /4qCqAdHcNKeAHcK8tJ8wNJZa9cx.jpg   \n",
       "\n",
       "                                            overview  분류  \n",
       "0  공화국이 붕괴하고 제국이 수립된 뒤 20년, 제다이 기사단은 전멸하고 강력한 제국군...  영화  "
      ]
     },
     "execution_count": 20,
     "metadata": {},
     "output_type": "execute_result"
    }
   ],
   "source": [
    "df.head(1)"
   ]
  },
  {
   "cell_type": "code",
   "execution_count": 22,
   "metadata": {},
   "outputs": [],
   "source": [
    "df.to_csv(\"data/movies_mart_14224.csv\", encoding='utf8', index=False)"
   ]
  },
  {
   "cell_type": "code",
   "execution_count": 25,
   "metadata": {},
   "outputs": [],
   "source": [
    "from chromadb import PersistentClient\n",
    "import json"
   ]
  },
  {
   "cell_type": "code",
   "execution_count": 26,
   "metadata": {},
   "outputs": [],
   "source": [
    "client = PersistentClient(path=\"./test_chromadb\")\n"
   ]
  },
  {
   "cell_type": "code",
   "execution_count": 27,
   "metadata": {},
   "outputs": [
    {
     "name": "stderr",
     "output_type": "stream",
     "text": [
      "Add of existing embedding ID: 1\n",
      "Add of existing embedding ID: 2\n",
      "Add of existing embedding ID: 3\n",
      "Insert of existing embedding ID: 1\n",
      "Insert of existing embedding ID: 2\n",
      "Insert of existing embedding ID: 3\n"
     ]
    }
   ],
   "source": [
    "# 컬렉션 생성 또는 불러오기\n",
    "collection = client.get_or_create_collection(name=\"movies\")\n",
    "\n",
    "# 샘플 데이터 삽입 (documents 포함)\n",
    "collection.add(\n",
    "    ids=[\"1\", \"2\", \"3\"],\n",
    "    embeddings=[[0.1, 0.2, 0.3], [0.4, 0.5, 0.6], [0.7, 0.8, 0.9]],  # 예제용 더미 벡터\n",
    "    metadatas=[\n",
    "        {\"title\": \"Inception\", \"genres\": \"Sci-Fi, Thriller\", \"year\": 2010},\n",
    "        {\"title\": \"Titanic\", \"genres\": \"Romance, Drama\", \"year\": 1997},\n",
    "        {\"title\": \"Interstellar\", \"genres\": \"Sci-Fi, Adventure\", \"year\": 2014}\n",
    "    ],\n",
    "    documents=[\n",
    "        \"A mind-bending thriller about dream manipulation and subconscious heists.\",\n",
    "        \"A love story set against the backdrop of a tragic shipwreck.\",\n",
    "        \"A space exploration journey to find a new habitable planet for humanity.\"\n",
    "    ]\n",
    ")"
   ]
  },
  {
   "cell_type": "code",
   "execution_count": null,
   "metadata": {},
   "outputs": [],
   "source": [
    "'[|김상현|남민주|]'\n",
    "filter \"|김상현|\""
   ]
  },
  {
   "cell_type": "code",
   "execution_count": null,
   "metadata": {},
   "outputs": [],
   "source": [
    "df [{\n",
    "g : [\"a\",\"b\"]\n",
    "\n",
    "}]\n",
    "\n",
    "page_content=  []"
   ]
  },
  {
   "cell_type": "code",
   "execution_count": null,
   "metadata": {},
   "outputs": [],
   "source": [
    "'['김상현',\"남민주\"]'\n",
    "simiarity(filter(in) \"'김상현'\")\n"
   ]
  },
  {
   "cell_type": "code",
   "execution_count": 34,
   "metadata": {},
   "outputs": [
    {
     "name": "stdout",
     "output_type": "stream",
     "text": [
      "{'ids': [[]], 'distances': [[]], 'metadatas': [[]], 'embeddings': None, 'documents': [[]], 'uris': None, 'data': None}\n"
     ]
    }
   ],
   "source": [
    "results = collection.query(\n",
    "    query_embeddings=[[0.1, 0.2, 0.3]],\n",
    "    n_results=1,\n",
    "    # where={\"genres\": {\"$in\": [\"Sci-Fi\"]}},  # Sci-Fi 장르만 필터링\n",
    "    where_document={\"$contains\": \"thriller\"}  # \"space\" 단어가 포함된 문서만 검색\n",
    ")\n",
    "\n",
    "print(results)\n"
   ]
  },
  {
   "cell_type": "code",
   "execution_count": null,
   "metadata": {},
   "outputs": [],
   "source": []
  }
 ],
 "metadata": {
  "kernelspec": {
   "display_name": ".venv",
   "language": "python",
   "name": "python3"
  },
  "language_info": {
   "codemirror_mode": {
    "name": "ipython",
    "version": 3
   },
   "file_extension": ".py",
   "mimetype": "text/x-python",
   "name": "python",
   "nbconvert_exporter": "python",
   "pygments_lexer": "ipython3",
   "version": "3.11.9"
  }
 },
 "nbformat": 4,
 "nbformat_minor": 2
}

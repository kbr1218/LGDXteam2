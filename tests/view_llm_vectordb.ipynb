{
 "cells": [
  {
   "cell_type": "markdown",
   "metadata": {},
   "source": [
    "# LLM VectorDB 저장\n",
    "#### w/ Chroma"
   ]
  },
  {
   "cell_type": "code",
   "execution_count": 1,
   "metadata": {},
   "outputs": [],
   "source": [
    "from langchain_community.embeddings import HuggingFaceEmbeddings\n",
    "from langchain_community.document_loaders.csv_loader import CSVLoader\n",
    "\n",
    "from langchain.schema import Document\n",
    "from langchain.text_splitter import RecursiveCharacterTextSplitter\n",
    "\n",
    "import pandas as pd\n",
    "\n",
    "# VectorDB\n",
    "from langchain_community.vectorstores import Chroma"
   ]
  },
  {
   "cell_type": "code",
   "execution_count": 2,
   "metadata": {},
   "outputs": [],
   "source": [
    "### 벡터스토어 값 추가/제거/수정 테스트를 위한 데이터 만들기\n",
    "csv_path = '../data/second.csv'\n",
    "df1 = pd.read_csv(csv_path, encoding='utf8')\n",
    "colnames = df1.columns"
   ]
  },
  {
   "cell_type": "code",
   "execution_count": 3,
   "metadata": {},
   "outputs": [
    {
     "data": {
      "text/plain": [
       "(100, 5)"
      ]
     },
     "execution_count": 3,
     "metadata": {},
     "output_type": "execute_result"
    }
   ],
   "source": [
    "# view_for_test100 = df1[:100]\n",
    "# view_for_test100.shape"
   ]
  },
  {
   "cell_type": "code",
   "execution_count": 4,
   "metadata": {},
   "outputs": [],
   "source": [
    "# view_for_test100.to_csv('../data/view_for_test100.csv', encoding='utf8', index=False)"
   ]
  },
  {
   "cell_type": "markdown",
   "metadata": {},
   "source": [
    "## 100개의 데이터만으로 벡터스토어에 저장 >> second.csv"
   ]
  },
  {
   "cell_type": "code",
   "execution_count": 3,
   "metadata": {},
   "outputs": [
    {
     "name": "stdout",
     "output_type": "stream",
     "text": [
      "문서의 수: 1025275\n"
     ]
    }
   ],
   "source": [
    "### 01. CSV 파일에서 문서 로드 ###\n",
    "loader = CSVLoader('../data/second.csv', encoding='utf8')\n",
    "docs = loader.load()\n",
    "print(f\"문서의 수: {len(docs)}\")\n",
    "\n",
    "### 02. pandas로 데이터프레임 칼럼명 가져오기\n",
    "csv_path = '../data/second.csv'\n",
    "df2 = pd.read_csv(csv_path, encoding='utf8')\n",
    "colnames = df2.columns"
   ]
  },
  {
   "cell_type": "code",
   "execution_count": 4,
   "metadata": {},
   "outputs": [
    {
     "data": {
      "text/plain": [
       "Index(['user_id', 'asset_id', 'use_tms/runtime', 'runtime', 'datetime'], dtype='object')"
      ]
     },
     "execution_count": 4,
     "metadata": {},
     "output_type": "execute_result"
    }
   ],
   "source": [
    "colnames"
   ]
  },
  {
   "cell_type": "code",
   "execution_count": 5,
   "metadata": {},
   "outputs": [
    {
     "data": {
      "text/html": [
       "<div>\n",
       "<style scoped>\n",
       "    .dataframe tbody tr th:only-of-type {\n",
       "        vertical-align: middle;\n",
       "    }\n",
       "\n",
       "    .dataframe tbody tr th {\n",
       "        vertical-align: top;\n",
       "    }\n",
       "\n",
       "    .dataframe thead th {\n",
       "        text-align: right;\n",
       "    }\n",
       "</style>\n",
       "<table border=\"1\" class=\"dataframe\">\n",
       "  <thead>\n",
       "    <tr style=\"text-align: right;\">\n",
       "      <th></th>\n",
       "      <th>user_id</th>\n",
       "      <th>asset_id</th>\n",
       "      <th>use_tms/runtime</th>\n",
       "      <th>runtime</th>\n",
       "      <th>datetime</th>\n",
       "    </tr>\n",
       "  </thead>\n",
       "  <tbody>\n",
       "    <tr>\n",
       "      <th>0</th>\n",
       "      <td>user017439</td>\n",
       "      <td>cjc|M5217400LSGN27610201</td>\n",
       "      <td>0.395</td>\n",
       "      <td>6600.0</td>\n",
       "      <td>2023-11-27 21:52:32</td>\n",
       "    </tr>\n",
       "    <tr>\n",
       "      <th>1</th>\n",
       "      <td>user017439</td>\n",
       "      <td>cjc|M5212995LFON18981501</td>\n",
       "      <td>0.538</td>\n",
       "      <td>6180.0</td>\n",
       "      <td>2023-11-05 21:34:42</td>\n",
       "    </tr>\n",
       "    <tr>\n",
       "      <th>2</th>\n",
       "      <td>user017439</td>\n",
       "      <td>cjc|M4909466LSGG15304501</td>\n",
       "      <td>0.239</td>\n",
       "      <td>8340.0</td>\n",
       "      <td>2023-09-18 22:45:03</td>\n",
       "    </tr>\n",
       "    <tr>\n",
       "      <th>3</th>\n",
       "      <td>user017439</td>\n",
       "      <td>cjc|M0455294LSGL12927301</td>\n",
       "      <td>0.081</td>\n",
       "      <td>6240.0</td>\n",
       "      <td>2023-01-23 00:22:37</td>\n",
       "    </tr>\n",
       "    <tr>\n",
       "      <th>4</th>\n",
       "      <td>user017439</td>\n",
       "      <td>cjc|M4245102LSGJ92413901</td>\n",
       "      <td>0.392</td>\n",
       "      <td>8400.0</td>\n",
       "      <td>2023-08-23 22:17:45</td>\n",
       "    </tr>\n",
       "    <tr>\n",
       "      <th>...</th>\n",
       "      <td>...</td>\n",
       "      <td>...</td>\n",
       "      <td>...</td>\n",
       "      <td>...</td>\n",
       "      <td>...</td>\n",
       "    </tr>\n",
       "    <tr>\n",
       "      <th>1025270</th>\n",
       "      <td>user041480</td>\n",
       "      <td>cjc|M5063448LFOL10618701</td>\n",
       "      <td>0.425</td>\n",
       "      <td>5460.0</td>\n",
       "      <td>2023-01-02 22:06:22</td>\n",
       "    </tr>\n",
       "    <tr>\n",
       "      <th>1025271</th>\n",
       "      <td>user041480</td>\n",
       "      <td>cjc|M5085138LFOL57791401</td>\n",
       "      <td>0.060</td>\n",
       "      <td>5280.0</td>\n",
       "      <td>2023-03-13 19:57:59</td>\n",
       "    </tr>\n",
       "    <tr>\n",
       "      <th>1025272</th>\n",
       "      <td>user041480</td>\n",
       "      <td>cjc|M5143064LSVL11224501</td>\n",
       "      <td>0.125</td>\n",
       "      <td>5280.0</td>\n",
       "      <td>2023-01-14 09:18:11</td>\n",
       "    </tr>\n",
       "    <tr>\n",
       "      <th>1025273</th>\n",
       "      <td>user041480</td>\n",
       "      <td>cjc|M5210797LFON08638801</td>\n",
       "      <td>0.884</td>\n",
       "      <td>7560.0</td>\n",
       "      <td>2023-11-09 20:25:49</td>\n",
       "    </tr>\n",
       "    <tr>\n",
       "      <th>1025274</th>\n",
       "      <td>user041480</td>\n",
       "      <td>cjc|M4126866LSG815329501</td>\n",
       "      <td>0.478</td>\n",
       "      <td>6300.0</td>\n",
       "      <td>2023-11-03 21:01:37</td>\n",
       "    </tr>\n",
       "  </tbody>\n",
       "</table>\n",
       "<p>1025275 rows × 5 columns</p>\n",
       "</div>"
      ],
      "text/plain": [
       "            user_id                  asset_id  use_tms/runtime  runtime  \\\n",
       "0        user017439  cjc|M5217400LSGN27610201            0.395   6600.0   \n",
       "1        user017439  cjc|M5212995LFON18981501            0.538   6180.0   \n",
       "2        user017439  cjc|M4909466LSGG15304501            0.239   8340.0   \n",
       "3        user017439  cjc|M0455294LSGL12927301            0.081   6240.0   \n",
       "4        user017439  cjc|M4245102LSGJ92413901            0.392   8400.0   \n",
       "...             ...                       ...              ...      ...   \n",
       "1025270  user041480  cjc|M5063448LFOL10618701            0.425   5460.0   \n",
       "1025271  user041480  cjc|M5085138LFOL57791401            0.060   5280.0   \n",
       "1025272  user041480  cjc|M5143064LSVL11224501            0.125   5280.0   \n",
       "1025273  user041480  cjc|M5210797LFON08638801            0.884   7560.0   \n",
       "1025274  user041480  cjc|M4126866LSG815329501            0.478   6300.0   \n",
       "\n",
       "                    datetime  \n",
       "0        2023-11-27 21:52:32  \n",
       "1        2023-11-05 21:34:42  \n",
       "2        2023-09-18 22:45:03  \n",
       "3        2023-01-23 00:22:37  \n",
       "4        2023-08-23 22:17:45  \n",
       "...                      ...  \n",
       "1025270  2023-01-02 22:06:22  \n",
       "1025271  2023-03-13 19:57:59  \n",
       "1025272  2023-01-14 09:18:11  \n",
       "1025273  2023-11-09 20:25:49  \n",
       "1025274  2023-11-03 21:01:37  \n",
       "\n",
       "[1025275 rows x 5 columns]"
      ]
     },
     "execution_count": 5,
     "metadata": {},
     "output_type": "execute_result"
    }
   ],
   "source": [
    "df2"
   ]
  },
  {
   "cell_type": "code",
   "execution_count": 6,
   "metadata": {},
   "outputs": [
    {
     "name": "stdout",
     "output_type": "stream",
     "text": [
      "문서의 수: 1025275\n",
      "[메타데이터 예시]\n",
      " {'user_id': 'user017439', 'asset_id': 'cjc|M4458787LSGM45146801', 'datetime': '2023-07-09 15:51:09'}\n"
     ]
    }
   ],
   "source": [
    "### 03. 메타데이터 추가 ###\n",
    "docs = []\n",
    "for _, row in df2.iterrows():\n",
    "  # 필요한 메타데이터 설정\n",
    "  metadata = {\n",
    "    'user_id': row['user_id'],\n",
    "    'asset_id':row['asset_id'],\n",
    "    'datetime': row['datetime']\n",
    "  }\n",
    "  # 각 행의 데이터를 문서로 변환\n",
    "  doc = Document(\n",
    "    page_content=str(row.to_dict()),\n",
    "    metadata=metadata\n",
    "  )\n",
    "  docs.append(doc)\n",
    "\n",
    "print(f\"문서의 수: {len(docs)}\")\n",
    "print('[메타데이터 예시]\\n', docs[50].metadata)"
   ]
  },
  {
   "cell_type": "code",
   "execution_count": 7,
   "metadata": {},
   "outputs": [
    {
     "name": "stdout",
     "output_type": "stream",
     "text": [
      "split된 문서의 수: 1025275\n"
     ]
    }
   ],
   "source": [
    "### 04. 데이터 청크 나누기 ###\n",
    "text_splitter = RecursiveCharacterTextSplitter(\n",
    "  chunk_size=150, chunk_overlap=0\n",
    ")\n",
    "splits = text_splitter.split_documents(docs)\n",
    "print(\"split된 문서의 수:\", len(splits))"
   ]
  },
  {
   "cell_type": "code",
   "execution_count": 8,
   "metadata": {},
   "outputs": [
    {
     "name": "stderr",
     "output_type": "stream",
     "text": [
      "C:\\Users\\USER\\AppData\\Local\\Temp\\ipykernel_444\\3636801640.py:3: LangChainDeprecationWarning: The class `HuggingFaceEmbeddings` was deprecated in LangChain 0.2.2 and will be removed in 1.0. An updated version of the class exists in the :class:`~langchain-huggingface package and should be used instead. To use it run `pip install -U :class:`~langchain-huggingface` and import as `from :class:`~langchain_huggingface import HuggingFaceEmbeddings``.\n",
      "  embeddings = HuggingFaceEmbeddings(model_name='ibm-granite/granite-embedding-278m-multilingual')\n",
      "c:\\workspaces\\LGDXteam2\\.venv\\Lib\\site-packages\\transformers\\tokenization_utils_base.py:1601: FutureWarning: `clean_up_tokenization_spaces` was not set. It will be set to `True` by default. This behavior will be depracted in transformers v4.45, and will be then set to `False` by default. For more details check this issue: https://github.com/huggingface/transformers/issues/31884\n",
      "  warnings.warn(\n"
     ]
    }
   ],
   "source": [
    "### 05. 임베딩 모델 생성\n",
    "# https://huggingface.co/ibm-granite/granite-embedding-278m-multilingual\n",
    "embeddings = HuggingFaceEmbeddings(model_name='ibm-granite/granite-embedding-278m-multilingual')"
   ]
  },
  {
   "cell_type": "code",
   "execution_count": 9,
   "metadata": {},
   "outputs": [
    {
     "name": "stdout",
     "output_type": "stream",
     "text": [
      "Chroma 벡터스토어 생성 완료!\n"
     ]
    }
   ],
   "source": [
    "### 06. 벡터스토어 생성 ###\n",
    "## FAISS\n",
    "vectorstore = Chroma.from_documents(\n",
    "  documents=splits,\n",
    "  embedding=embeddings,\n",
    "  persist_directory=\"../data/views_vectorstore_chroma_second\",\n",
    ")\n",
    "\n",
    "# 벡터스토어 로컬에 저장\n",
    "print(\"Chroma 벡터스토어 생성 완료!\")"
   ]
  },
  {
   "cell_type": "code",
   "execution_count": 13,
   "metadata": {},
   "outputs": [
    {
     "name": "stderr",
     "output_type": "stream",
     "text": [
      "C:\\Users\\USER\\AppData\\Local\\Temp\\ipykernel_16912\\802743587.py:2: LangChainDeprecationWarning: The class `Chroma` was deprecated in LangChain 0.2.9 and will be removed in 1.0. An updated version of the class exists in the :class:`~langchain-chroma package and should be used instead. To use it run `pip install -U :class:`~langchain-chroma` and import as `from :class:`~langchain_chroma import Chroma``.\n",
      "  new_vector_store = Chroma(persist_directory=\"../data/view_for_test100_chroma\",\n"
     ]
    }
   ],
   "source": [
    "# 벡터스토어 로드\n",
    "# new_vector_store = Chroma(persist_directory=\"../data/view_for_test100_chroma\",\n",
    "#                           embedding_function=embeddings)"
   ]
  },
  {
   "cell_type": "code",
   "execution_count": null,
   "metadata": {},
   "outputs": [],
   "source": []
  }
 ],
 "metadata": {
  "kernelspec": {
   "display_name": ".venv",
   "language": "python",
   "name": "python3"
  },
  "language_info": {
   "codemirror_mode": {
    "name": "ipython",
    "version": 3
   },
   "file_extension": ".py",
   "mimetype": "text/x-python",
   "name": "python",
   "nbconvert_exporter": "python",
   "pygments_lexer": "ipython3",
   "version": "3.11.9"
  }
 },
 "nbformat": 4,
 "nbformat_minor": 4
}

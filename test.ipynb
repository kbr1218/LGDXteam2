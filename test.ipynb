{
 "cells": [
  {
   "cell_type": "code",
   "execution_count": 1,
   "metadata": {},
   "outputs": [],
   "source": [
    "test =[{'user_id': 'user000001', ' asset_id': ' cjc|M5185202LSGM39586001', ' asset_score': 0.1}, {'user_id': 'user000001', ' asset_id': ' cjc|M5157985LSVL58503101', ' asset_score': 0.2}, {'user_id': 'user000001', ' asset_id': ' cjc|M5147122LFON18980301', ' asset_score': 0.3}, {'user_id': 'user000001', ' asset_id': ' cjc|M5079969LSGK20156001', ' asset_score': 0.4}, {'user_id': 'user000001', ' asset_id': ' cjc|M4723155LFOM60413401', ' asset_score': 0.5}, {'user_id': 'user000001', ' asset_id': ' cjc|M4789520LFOM42694301', ' asset_score': 0.6}, {'user_id': 'user000001', ' asset_id': ' cjc|M4496727LFO732549101', ' asset_score': 0.7}, {'user_id': 'user000001', ' asset_id': ' cjc|M5195446LSGM66842401', ' asset_score': 0.8}, {'user_id': 'user000001', ' asset_id': ' cjc|M5193452LFOM60889201', ' asset_score': 0.9}, {'user_id': 'user000001', ' asset_id': ' cjc|M5210791LFON08639201', ' asset_score': 1.0}, {'user_id': 'user000002', ' asset_id': ' cjc|M5185202LSGM39586001', ' asset_score': 0.1}, {'user_id': 'user000002', ' asset_id': ' cjc|M5157985LSVL58503101', ' asset_score': 0.2}, {'user_id': 'user000002', ' asset_id': ' cjc|M5147122LFON18980301', ' asset_score': 0.3}, {'user_id': 'user000002', ' asset_id': ' cjc|M5079969LSGK20156001', ' asset_score': 0.4}, {'user_id': 'user000002', ' asset_id': ' cjc|M4723155LFOM60413401', ' asset_score': 0.5}, {'user_id': 'user000002', ' asset_id': ' cjc|M4789520LFOM42694301', ' asset_score': 0.6}, {'user_id': 'user000002', ' asset_id': ' cjc|M4496727LFO732549101', ' asset_score': 0.7}, {'user_id': 'user000002', ' asset_id': ' cjc|M5195446LSGM66842401', ' asset_score': 0.8}, {'user_id': 'user000002', ' asset_id': ' cjc|M5193452LFOM60889201', ' asset_score': 0.9}, {'user_id': 'user000002', ' asset_id': ' cjc|M5210791LFON08639201', ' asset_score': 1.0}]"
   ]
  },
  {
   "cell_type": "code",
   "execution_count": 6,
   "metadata": {},
   "outputs": [
    {
     "data": {
      "text/plain": [
       "{'user_id': 'user000001',\n",
       " ' asset_id': ' cjc|M5185202LSGM39586001',\n",
       " ' asset_score': 0.1}"
      ]
     },
     "execution_count": 6,
     "metadata": {},
     "output_type": "execute_result"
    }
   ],
   "source": [
    "test[0]"
   ]
  },
  {
   "cell_type": "code",
   "execution_count": 13,
   "metadata": {},
   "outputs": [
    {
     "data": {
      "text/plain": [
       "['user000001',\n",
       " 'user000001',\n",
       " 'user000001',\n",
       " 'user000001',\n",
       " 'user000001',\n",
       " 'user000001',\n",
       " 'user000001',\n",
       " 'user000001',\n",
       " 'user000001',\n",
       " 'user000001',\n",
       " 'user000002',\n",
       " 'user000002',\n",
       " 'user000002',\n",
       " 'user000002',\n",
       " 'user000002',\n",
       " 'user000002',\n",
       " 'user000002',\n",
       " 'user000002',\n",
       " 'user000002',\n",
       " 'user000002']"
      ]
     },
     "execution_count": 13,
     "metadata": {},
     "output_type": "execute_result"
    }
   ],
   "source": [
    "[doc[\"user_id\"] for doc in test]"
   ]
  },
  {
   "cell_type": "code",
   "execution_count": 3,
   "metadata": {},
   "outputs": [
    {
     "name": "stdout",
     "output_type": "stream",
     "text": [
      "저장된 모델을 성공적으로 불러왔습니다.\n"
     ]
    },
    {
     "name": "stderr",
     "output_type": "stream",
     "text": [
      "c:\\workspaces\\LGDXteam2\\.venv\\Lib\\site-packages\\lightfm\\_lightfm_fast.py:9: UserWarning: LightFM was compiled without OpenMP support. Only a single thread will be used.\n",
      "  warnings.warn(\n"
     ]
    }
   ],
   "source": [
    "import pickle\n",
    "\n",
    "with open(\"lightfm_model.pkl\", \"rb\") as f:\n",
    "    loaded_model = pickle.load(f)\n",
    "\n",
    "print(\"저장된 모델을 성공적으로 불러왔습니다.\")\n"
   ]
  },
  {
   "cell_type": "code",
   "execution_count": 13,
   "metadata": {},
   "outputs": [
    {
     "name": "stdout",
     "output_type": "stream",
     "text": [
      "csv load 성공!\n",
      "[    0     1     2 ... 13124 13125 13126]\n",
      "220006\n",
      "220006\n",
      "<generator object <genexpr> at 0x000001D8B8CD3E00>\n",
      "['cjc|M5134343LSVK83725701', 'cjc|M5170305LSGL87359701', 'cjc|M4579860LSG882007501', 'cjc|M5077806LSGK12557301', 'cjc|M5190243LSGM56003701']\n"
     ]
    }
   ],
   "source": [
    "import pandas as pd\n",
    "import numpy as np\n",
    "\n",
    "user_ids = pd.read_csv(\"db/user_mapping.csv\")\n",
    "asset_ids = pd.read_csv(\"db/asset_mapping.csv\")\n",
    "print(\"csv load 성공!\")\n",
    "# user_id = \"user000310\"  # 예제 사용자\n",
    "\n",
    "user_df = pd.DataFrame(user_ids)\n",
    "print(np.array(asset_ids[\"asset_index\"]))\n",
    "\n",
    "user_index = user_df.query(f'user_id == \"user000310\"')[\"user_index\"].values[0]\n",
    "print(user_index)\n",
    "\n",
    "user_index = user_df.query(f\"user_id == 'user000310'\")[\"user_index\"].values[0]\n",
    "print(user_index)\n",
    "# 모든 아이템에 대한 예측 점수 계산\n",
    "scores = loaded_model.predict(int(user_index), (list(asset_ids[\"asset_index\"])))\n",
    "\n",
    "# ✅ 결과를 DataFrame으로 정리\n",
    "df_recommendations = pd.DataFrame({\n",
    "  \"asset_id\": asset_ids[\"asset_id\"],\n",
    "  \"asset_index\": asset_ids[\"asset_index\"],\n",
    "  \"score\": scores\n",
    "  }).sort_values(by=\"score\", ascending=False)\n",
    "\n",
    "asset_score_dict = df_recommendations.set_index(\"asset_id\")[\"score\"].to_dict()\n",
    "\n",
    "print(doc for doc in asset_score_dict)\n",
    "\n",
    "# 3) 사용자가 시청한 콘텐츠의 asset_id를 user_data_score_cache에서 가져와 변수에 저장\n",
    "watched_movies_asset_ids = asset_score_dict.keys()\n",
    "# print(f\"\\n>>>>>>>>> 사용자가 시청한 콘텐츠의 asset IDs: \\n{watched_movies_asset_ids}\")\n",
    "\n",
    "# ✅ LLM 리스트에서 존재하는 영화만 필터링 후, heap을 사용하여 5개만 유지\n",
    "top_5_movies = [('cjc|M5134343LSVK83725701', -0.4087684452533722), ('cjc|M5170305LSGL87359701', -0.6042518615722656), ('cjc|M4579860LSG882007501', -0.8324829339981079), ('cjc|M5077806LSGK12557301', -0.9861160516738892), ('cjc|M5190243LSGM56003701', -1.1545443534851074)]\n",
    "\n",
    "# ✅ 결과 출력\n",
    "print([tup[0] for tup in top_5_movies])\n",
    "\n",
    "\n",
    "\n",
    "# user_id = \"user000310\"  # 예제 사용자\n",
    "# user_index = user_ids[user_id]\n",
    "\n",
    "# # 모든 아이템에 대한 예측 점수 계산\n",
    "# scores = loaded_model.predict(user_index, asset_ids)"
   ]
  }
 ],
 "metadata": {
  "kernelspec": {
   "display_name": ".venv",
   "language": "python",
   "name": "python3"
  },
  "language_info": {
   "codemirror_mode": {
    "name": "ipython",
    "version": 3
   },
   "file_extension": ".py",
   "mimetype": "text/x-python",
   "name": "python",
   "nbconvert_exporter": "python",
   "pygments_lexer": "ipython3",
   "version": "3.11.9"
  }
 },
 "nbformat": 4,
 "nbformat_minor": 2
}
